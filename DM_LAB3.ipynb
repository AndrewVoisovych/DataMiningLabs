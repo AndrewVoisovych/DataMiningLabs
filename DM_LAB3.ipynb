{
 "cells": [
  {
   "cell_type": "markdown",
   "metadata": {
    "colab_type": "text",
    "id": "T7vUYmK-nP0_"
   },
   "source": [
    "# Лабораторна робота №3 з Видобування даних\n",
    "## Очищення даних\n",
    "### Мета роботи: навчитися базовому фунукціоналу pandas для обробки та підготовки даних до моделювання та використання"
   ]
  },
  {
   "cell_type": "markdown",
   "metadata": {
    "colab_type": "text",
    "id": "hMkBHaEBoRL3"
   },
   "source": [
    "###1.[Завантажте набір даних у колаб](https://towardsdatascience.com/3-ways-to-load-csv-files-into-colab-7c14fcbdcb92), і у data frame "
   ]
  },
  {
   "cell_type": "code",
   "execution_count": 1,
   "metadata": {
    "colab": {},
    "colab_type": "code",
    "id": "3yAOJ4KDoc-U"
   },
   "outputs": [
    {
     "data": {
      "text/html": [
       "<div>\n",
       "<style scoped>\n",
       "    .dataframe tbody tr th:only-of-type {\n",
       "        vertical-align: middle;\n",
       "    }\n",
       "\n",
       "    .dataframe tbody tr th {\n",
       "        vertical-align: top;\n",
       "    }\n",
       "\n",
       "    .dataframe thead th {\n",
       "        text-align: right;\n",
       "    }\n",
       "</style>\n",
       "<table border=\"1\" class=\"dataframe\">\n",
       "  <thead>\n",
       "    <tr style=\"text-align: right;\">\n",
       "      <th></th>\n",
       "      <th>сhampionship</th>\n",
       "      <th>season</th>\n",
       "      <th>position</th>\n",
       "      <th>team</th>\n",
       "      <th>matches</th>\n",
       "      <th>wins</th>\n",
       "      <th>draws</th>\n",
       "      <th>loses</th>\n",
       "      <th>scored</th>\n",
       "      <th>missed</th>\n",
       "      <th>...</th>\n",
       "      <th>xGA</th>\n",
       "      <th>xGA_diff</th>\n",
       "      <th>npxGA</th>\n",
       "      <th>npxGD</th>\n",
       "      <th>ppda_coef</th>\n",
       "      <th>oppda_coef</th>\n",
       "      <th>deep</th>\n",
       "      <th>deep_allowed</th>\n",
       "      <th>xpts</th>\n",
       "      <th>xpts_diff</th>\n",
       "    </tr>\n",
       "  </thead>\n",
       "  <tbody>\n",
       "    <tr>\n",
       "      <td>100</td>\n",
       "      <td>EPL</td>\n",
       "      <td>2014</td>\n",
       "      <td>1</td>\n",
       "      <td>Chelsea</td>\n",
       "      <td>38</td>\n",
       "      <td>26</td>\n",
       "      <td>9</td>\n",
       "      <td>3</td>\n",
       "      <td>73</td>\n",
       "      <td>32</td>\n",
       "      <td>...</td>\n",
       "      <td>31.524344</td>\n",
       "      <td>-0.475656</td>\n",
       "      <td>29.240835</td>\n",
       "      <td>35.499567</td>\n",
       "      <td>10.942027</td>\n",
       "      <td>13.419520</td>\n",
       "      <td>407</td>\n",
       "      <td>171</td>\n",
       "      <td>75.3172</td>\n",
       "      <td>-11.6828</td>\n",
       "    </tr>\n",
       "    <tr>\n",
       "      <td>101</td>\n",
       "      <td>EPL</td>\n",
       "      <td>2014</td>\n",
       "      <td>2</td>\n",
       "      <td>Manchester City</td>\n",
       "      <td>38</td>\n",
       "      <td>24</td>\n",
       "      <td>7</td>\n",
       "      <td>7</td>\n",
       "      <td>83</td>\n",
       "      <td>38</td>\n",
       "      <td>...</td>\n",
       "      <td>40.499403</td>\n",
       "      <td>2.499403</td>\n",
       "      <td>37.454762</td>\n",
       "      <td>32.154329</td>\n",
       "      <td>7.982490</td>\n",
       "      <td>15.076979</td>\n",
       "      <td>575</td>\n",
       "      <td>144</td>\n",
       "      <td>73.0982</td>\n",
       "      <td>-5.9018</td>\n",
       "    </tr>\n",
       "    <tr>\n",
       "      <td>102</td>\n",
       "      <td>EPL</td>\n",
       "      <td>2014</td>\n",
       "      <td>3</td>\n",
       "      <td>Arsenal</td>\n",
       "      <td>38</td>\n",
       "      <td>22</td>\n",
       "      <td>9</td>\n",
       "      <td>7</td>\n",
       "      <td>71</td>\n",
       "      <td>36</td>\n",
       "      <td>...</td>\n",
       "      <td>35.718825</td>\n",
       "      <td>-0.281175</td>\n",
       "      <td>33.435352</td>\n",
       "      <td>31.039052</td>\n",
       "      <td>8.660596</td>\n",
       "      <td>13.254169</td>\n",
       "      <td>398</td>\n",
       "      <td>171</td>\n",
       "      <td>75.1740</td>\n",
       "      <td>0.1740</td>\n",
       "    </tr>\n",
       "    <tr>\n",
       "      <td>103</td>\n",
       "      <td>EPL</td>\n",
       "      <td>2014</td>\n",
       "      <td>4</td>\n",
       "      <td>Manchester United</td>\n",
       "      <td>38</td>\n",
       "      <td>20</td>\n",
       "      <td>10</td>\n",
       "      <td>8</td>\n",
       "      <td>62</td>\n",
       "      <td>37</td>\n",
       "      <td>...</td>\n",
       "      <td>39.842347</td>\n",
       "      <td>2.842347</td>\n",
       "      <td>36.797702</td>\n",
       "      <td>13.603311</td>\n",
       "      <td>7.648715</td>\n",
       "      <td>15.521977</td>\n",
       "      <td>267</td>\n",
       "      <td>194</td>\n",
       "      <td>63.0327</td>\n",
       "      <td>-6.9673</td>\n",
       "    </tr>\n",
       "    <tr>\n",
       "      <td>104</td>\n",
       "      <td>EPL</td>\n",
       "      <td>2014</td>\n",
       "      <td>5</td>\n",
       "      <td>Tottenham</td>\n",
       "      <td>38</td>\n",
       "      <td>19</td>\n",
       "      <td>7</td>\n",
       "      <td>12</td>\n",
       "      <td>58</td>\n",
       "      <td>53</td>\n",
       "      <td>...</td>\n",
       "      <td>57.044148</td>\n",
       "      <td>4.044148</td>\n",
       "      <td>51.598938</td>\n",
       "      <td>-3.171924</td>\n",
       "      <td>8.000237</td>\n",
       "      <td>11.300694</td>\n",
       "      <td>210</td>\n",
       "      <td>232</td>\n",
       "      <td>48.9361</td>\n",
       "      <td>-15.0639</td>\n",
       "    </tr>\n",
       "    <tr>\n",
       "      <td>105</td>\n",
       "      <td>EPL</td>\n",
       "      <td>2014</td>\n",
       "      <td>6</td>\n",
       "      <td>Liverpool</td>\n",
       "      <td>38</td>\n",
       "      <td>18</td>\n",
       "      <td>8</td>\n",
       "      <td>12</td>\n",
       "      <td>52</td>\n",
       "      <td>48</td>\n",
       "      <td>...</td>\n",
       "      <td>38.249721</td>\n",
       "      <td>-9.750279</td>\n",
       "      <td>35.829400</td>\n",
       "      <td>11.300810</td>\n",
       "      <td>9.913851</td>\n",
       "      <td>12.121981</td>\n",
       "      <td>306</td>\n",
       "      <td>201</td>\n",
       "      <td>61.1673</td>\n",
       "      <td>-0.8327</td>\n",
       "    </tr>\n",
       "    <tr>\n",
       "      <td>106</td>\n",
       "      <td>EPL</td>\n",
       "      <td>2014</td>\n",
       "      <td>7</td>\n",
       "      <td>Southampton</td>\n",
       "      <td>38</td>\n",
       "      <td>18</td>\n",
       "      <td>6</td>\n",
       "      <td>14</td>\n",
       "      <td>54</td>\n",
       "      <td>33</td>\n",
       "      <td>...</td>\n",
       "      <td>39.113520</td>\n",
       "      <td>6.113520</td>\n",
       "      <td>37.591178</td>\n",
       "      <td>15.090994</td>\n",
       "      <td>9.259540</td>\n",
       "      <td>14.879479</td>\n",
       "      <td>270</td>\n",
       "      <td>183</td>\n",
       "      <td>62.8166</td>\n",
       "      <td>2.8166</td>\n",
       "    </tr>\n",
       "    <tr>\n",
       "      <td>107</td>\n",
       "      <td>EPL</td>\n",
       "      <td>2014</td>\n",
       "      <td>8</td>\n",
       "      <td>Swansea</td>\n",
       "      <td>38</td>\n",
       "      <td>16</td>\n",
       "      <td>8</td>\n",
       "      <td>14</td>\n",
       "      <td>46</td>\n",
       "      <td>49</td>\n",
       "      <td>...</td>\n",
       "      <td>55.942970</td>\n",
       "      <td>6.942970</td>\n",
       "      <td>54.420634</td>\n",
       "      <td>-15.041734</td>\n",
       "      <td>12.826741</td>\n",
       "      <td>11.455201</td>\n",
       "      <td>156</td>\n",
       "      <td>310</td>\n",
       "      <td>43.3167</td>\n",
       "      <td>-12.6833</td>\n",
       "    </tr>\n",
       "    <tr>\n",
       "      <td>108</td>\n",
       "      <td>EPL</td>\n",
       "      <td>2014</td>\n",
       "      <td>9</td>\n",
       "      <td>Stoke</td>\n",
       "      <td>38</td>\n",
       "      <td>15</td>\n",
       "      <td>9</td>\n",
       "      <td>14</td>\n",
       "      <td>48</td>\n",
       "      <td>45</td>\n",
       "      <td>...</td>\n",
       "      <td>47.030662</td>\n",
       "      <td>2.030662</td>\n",
       "      <td>43.224882</td>\n",
       "      <td>0.752202</td>\n",
       "      <td>10.405753</td>\n",
       "      <td>10.601440</td>\n",
       "      <td>195</td>\n",
       "      <td>239</td>\n",
       "      <td>51.9715</td>\n",
       "      <td>-2.0285</td>\n",
       "    </tr>\n",
       "    <tr>\n",
       "      <td>109</td>\n",
       "      <td>EPL</td>\n",
       "      <td>2014</td>\n",
       "      <td>10</td>\n",
       "      <td>Crystal Palace</td>\n",
       "      <td>38</td>\n",
       "      <td>13</td>\n",
       "      <td>9</td>\n",
       "      <td>16</td>\n",
       "      <td>47</td>\n",
       "      <td>51</td>\n",
       "      <td>...</td>\n",
       "      <td>45.484365</td>\n",
       "      <td>-5.515635</td>\n",
       "      <td>40.820304</td>\n",
       "      <td>-0.767395</td>\n",
       "      <td>11.577051</td>\n",
       "      <td>6.582148</td>\n",
       "      <td>180</td>\n",
       "      <td>258</td>\n",
       "      <td>50.5570</td>\n",
       "      <td>2.5570</td>\n",
       "    </tr>\n",
       "  </tbody>\n",
       "</table>\n",
       "<p>10 rows × 24 columns</p>\n",
       "</div>"
      ],
      "text/plain": [
       "    сhampionship  season  position               team  matches  wins  draws  \\\n",
       "100          EPL    2014         1            Chelsea       38    26      9   \n",
       "101          EPL    2014         2    Manchester City       38    24      7   \n",
       "102          EPL    2014         3            Arsenal       38    22      9   \n",
       "103          EPL    2014         4  Manchester United       38    20     10   \n",
       "104          EPL    2014         5          Tottenham       38    19      7   \n",
       "105          EPL    2014         6          Liverpool       38    18      8   \n",
       "106          EPL    2014         7        Southampton       38    18      6   \n",
       "107          EPL    2014         8            Swansea       38    16      8   \n",
       "108          EPL    2014         9              Stoke       38    15      9   \n",
       "109          EPL    2014        10     Crystal Palace       38    13      9   \n",
       "\n",
       "     loses  scored  missed  ...        xGA  xGA_diff      npxGA      npxGD  \\\n",
       "100      3      73      32  ...  31.524344 -0.475656  29.240835  35.499567   \n",
       "101      7      83      38  ...  40.499403  2.499403  37.454762  32.154329   \n",
       "102      7      71      36  ...  35.718825 -0.281175  33.435352  31.039052   \n",
       "103      8      62      37  ...  39.842347  2.842347  36.797702  13.603311   \n",
       "104     12      58      53  ...  57.044148  4.044148  51.598938  -3.171924   \n",
       "105     12      52      48  ...  38.249721 -9.750279  35.829400  11.300810   \n",
       "106     14      54      33  ...  39.113520  6.113520  37.591178  15.090994   \n",
       "107     14      46      49  ...  55.942970  6.942970  54.420634 -15.041734   \n",
       "108     14      48      45  ...  47.030662  2.030662  43.224882   0.752202   \n",
       "109     16      47      51  ...  45.484365 -5.515635  40.820304  -0.767395   \n",
       "\n",
       "     ppda_coef  oppda_coef  deep  deep_allowed     xpts  xpts_diff  \n",
       "100  10.942027   13.419520   407           171  75.3172   -11.6828  \n",
       "101   7.982490   15.076979   575           144  73.0982    -5.9018  \n",
       "102   8.660596   13.254169   398           171  75.1740     0.1740  \n",
       "103   7.648715   15.521977   267           194  63.0327    -6.9673  \n",
       "104   8.000237   11.300694   210           232  48.9361   -15.0639  \n",
       "105   9.913851   12.121981   306           201  61.1673    -0.8327  \n",
       "106   9.259540   14.879479   270           183  62.8166     2.8166  \n",
       "107  12.826741   11.455201   156           310  43.3167   -12.6833  \n",
       "108  10.405753   10.601440   195           239  51.9715    -2.0285  \n",
       "109  11.577051    6.582148   180           258  50.5570     2.5570  \n",
       "\n",
       "[10 rows x 24 columns]"
      ]
     },
     "execution_count": 1,
     "metadata": {},
     "output_type": "execute_result"
    }
   ],
   "source": [
    "### Code starts from here ###\n",
    "import pandas as pd\n",
    "\n",
    "url = 'https://raw.githubusercontent.com/AndrewVoisovych/DataMiningLabs/master/understat.com.csv'\n",
    "data = pd.read_csv(url)\n",
    "\n",
    "data[(data['сhampionship']== 'EPL')].head(10)\n",
    "\n"
   ]
  },
  {
   "cell_type": "markdown",
   "metadata": {
    "colab_type": "text",
    "id": "XnzrU-7Oocdd"
   },
   "source": [
    "###2.Видаліть ті колонки які вам не потрібні для подальшого аналізу, залишивши ті що ви вибрали в рамках 2 лабораторної роботи ( df.drop )\n",
    "\n",
    "\n"
   ]
  },
  {
   "cell_type": "code",
   "execution_count": 12,
   "metadata": {},
   "outputs": [],
   "source": [
    "\n",
    "data = data.drop(data[data['сhampionship'] == 'RFPL'].index)"
   ]
  },
  {
   "cell_type": "markdown",
   "metadata": {
    "colab": {},
    "colab_type": "code",
    "id": "qCbXc55toeq7"
   },
   "source": [
    "Для мого аналізу не потрібно видаляти колонки, тому що велика кількість колонок дають великий простір для аналізу та різноманітних досліджень даних.\n",
    "Проте я видалив рядки пов’язані із Російською лігою (по причині того що дані дуже занижені, через те що це зовсім не топ чемпіонат, а особистий вибір того хто формував датасет)"
   ]
  },
  {
   "cell_type": "markdown",
   "metadata": {
    "colab_type": "text",
    "id": "O-2VTbG_ofEC"
   },
   "source": [
    "###3.Скільки % записів у ваших колонках є пусті / null ? Вивдеіть для кожного стовпця відсоток таких записів (df.isnull) Якщо таких записів більше 50% - вартує видалити такий стовпець чи ні ? Якщо так - видаліть.\n",
    " "
   ]
  },
  {
   "cell_type": "code",
   "execution_count": 13,
   "metadata": {},
   "outputs": [
    {
     "name": "stdout",
     "output_type": "stream",
     "text": [
      "Percent of empty records 0.0%\n"
     ]
    }
   ],
   "source": [
    "from functools import reduce \n",
    "nonNull = data.count()\n",
    "\n",
    "print(\"Percent of empty records %s%%\" % (100 - nonNull.sum() / reduce(lambda x, y: x * y, data.shape) * 100))"
   ]
  },
  {
   "cell_type": "markdown",
   "metadata": {
    "colab": {},
    "colab_type": "code",
    "id": "nNNk6cxVogga"
   },
   "source": [
    "У моїх колонках немає порожніх значень."
   ]
  },
  {
   "cell_type": "markdown",
   "metadata": {
    "colab_type": "text",
    "id": "RE_GE7Nsogzr"
   },
   "source": [
    "\n",
    "###4.Перевірте свої записи на дублікати . Якщо такі є - це помилкові записи чи подібні але окремі ? (df.duplicated) Чи є у вас колонки з різними назвами але які містять одинакову інформацію ?\n"
   ]
  },
  {
   "cell_type": "code",
   "execution_count": 14,
   "metadata": {
    "colab": {},
    "colab_type": "code",
    "id": "mgnNuLE_oiAT"
   },
   "outputs": [
    {
     "name": "stdout",
     "output_type": "stream",
     "text": [
      "Number of duplicates: 0\n"
     ]
    }
   ],
   "source": [
    "duplicates = data.duplicated()\n",
    "print(\"Number of duplicates: %s\" % data[duplicates].shape[0])"
   ]
  },
  {
   "cell_type": "markdown",
   "metadata": {
    "colab_type": "text",
    "id": "2vkcohsnoiHG"
   },
   "source": [
    "Дублікатів в наборі немає.\n",
    "\n"
   ]
  },
  {
   "cell_type": "markdown",
   "metadata": {
    "colab_type": "text",
    "id": "2vkcohsnoiHG"
   },
   "source": [
    "###5.Чи є у вас помилки у назвах колонок - якщо так виправте перейменувавши їх\n",
    "\n"
   ]
  },
  {
   "cell_type": "markdown",
   "metadata": {
    "colab": {},
    "colab_type": "code",
    "id": "kx-D8FJ4ojiR"
   },
   "source": [
    "Всі назви колонок є названі без помилок."
   ]
  },
  {
   "cell_type": "markdown",
   "metadata": {
    "colab_type": "text",
    "id": "np7IITHeojql"
   },
   "source": [
    "###6.Перегляньти значення категорій якщо стовпці з такими даними є. Чи вони справді унікальні чи є помилкові дублікати ? ( приклади: model i Model , NA i NotAssesed, New-York i New York )\n",
    "\n",
    "\n"
   ]
  },
  {
   "cell_type": "code",
   "execution_count": 15,
   "metadata": {
    "colab": {},
    "colab_type": "code",
    "id": "vKbFUrg6olc6"
   },
   "outputs": [
    {
     "name": "stdout",
     "output_type": "stream",
     "text": [
      "team: Barcelona, Real Madrid, Atletico Madrid, Valencia, Sevilla, Villarreal, Athletic Club, Celta Vigo, Malaga, Rayo Vallecano, Espanyol, Real Sociedad, Elche, Getafe, Levante, Deportivo La Coruna, Granada, Eibar, Almeria, Cordoba, Real Betis, Las Palmas, Sporting Gijon, Alaves, Leganes, Osasuna, Girona, Real Valladolid, SD Huesca, Chelsea, Manchester City, Arsenal, Manchester United, Tottenham, Liverpool, Southampton, Swansea, Stoke, Crystal Palace, West Ham, Everton, West Bromwich Albion, Leicester, Newcastle United, Aston Villa, Sunderland, Hull, Burnley, Queens Park Rangers, Watford, Bournemouth, Norwich, Middlesbrough, Brighton, Huddersfield, Wolverhampton Wanderers, Cardiff, Fulham, Bayern Munich, Wolfsburg, Borussia M.Gladbach, Bayer Leverkusen, Augsburg, Schalke 04, Borussia Dortmund, Hoffenheim, Werder Bremen, Eintracht Frankfurt, FC Cologne, Mainz 05, Hannover 96, VfB Stuttgart, Hamburger SV, Hertha Berlin, Freiburg, Paderborn, Ingolstadt, Darmstadt, RasenBallsport Leipzig, Fortuna Duesseldorf, Nuernberg, Juventus, Roma, Lazio, Fiorentina, Napoli, Genoa, Sampdoria, Inter, Torino, AC Milan, Palermo, Sassuolo, Verona, Chievo, Empoli, Udinese, Atalanta, Cagliari, Parma, Cesena, Bologna, Carpi, Frosinone, Crotone, Pescara, SPAL 2013, Benevento, Parma Calcio 1913, Paris Saint Germain, Lyon, Monaco, Marseille, Saint-Etienne, Bordeaux, Lille, Montpellier, Rennes, Guingamp, Nice, SC Bastia, Caen, Nantes, Reims, Lorient, Toulouse, Evian Thonon Gaillard, Metz, Lens, Angers, GFC Ajaccio, Troyes, Dijon, Nancy, Amiens, Strasbourg, Nimes\n",
      "сhampionship: La_liga, EPL, Bundesliga, Serie_A, Ligue_1\n"
     ]
    }
   ],
   "source": [
    "import numpy\n",
    "\n",
    "categorical = data[data.columns.difference(data._get_numeric_data().columns)]\n",
    "\n",
    "for colName in categorical.columns:\n",
    "    print(\"%s: %s\" % (colName, \", \".join(categorical[colName].unique())))"
   ]
  },
  {
   "cell_type": "markdown",
   "metadata": {
    "colab_type": "text",
    "id": "wptzV3Iqoln8"
   },
   "source": [
    "###7. В рамках 2 лабораторної чи у вас в даних є [outliers](https://towardsdatascience.com/ways-to-detect-and-remove-the-outliers-404d16608dba) ? Якщо є - заберіть  той % або кількість яка у вашому випадку оптимальна\n"
   ]
  },
  {
   "cell_type": "code",
   "execution_count": 41,
   "metadata": {
    "colab": {},
    "colab_type": "code",
    "id": "BJq2iRaKonBJ",
    "scrolled": false
   },
   "outputs": [
    {
     "name": "stdout",
     "output_type": "stream",
     "text": [
      "Populating the interactive namespace from numpy and matplotlib\n",
      "Outliers arrays: \n",
      "(array([  0,   0,   0,   0,   0,   0,   1,   1,   1,  20,  20,  20,  20,\n",
      "        20,  20,  21,  40,  40,  40,  41,  41,  41,  41,  58,  58,  60,\n",
      "        60,  62, 101, 140, 144, 160, 160, 160, 160, 160, 160, 160, 163,\n",
      "       165, 174, 180, 180, 180, 180, 180, 180, 181, 197, 200, 218, 236,\n",
      "       254, 272, 272, 272, 272, 289, 332, 349, 350, 351, 430, 430, 432,\n",
      "       450, 450, 470, 470, 470]), array([ 6,  9, 11, 15, 18, 20,  6,  9, 11,  6,  9, 11, 15, 18, 20,  6,  6,\n",
      "        9, 11,  6,  9, 11, 18,  7, 13, 11, 18,  9, 18, 10, 18,  3,  6,  9,\n",
      "       11, 15, 17, 18, 17, 18, 16,  3,  9, 11, 15, 17, 18, 17, 16, 17, 17,\n",
      "       17, 17,  9, 11, 15, 17, 16, 17, 21, 10, 17,  6, 10, 21,  6, 18,  6,\n",
      "        9, 11]))\n"
     ]
    },
    {
     "data": {
      "text/html": [
       "<table><tr><th>Row</th><th>Col</th><th>Value</th></tr><tr><td>0</td><td>scored</td><td>110</td></tr><tr><td>0</td><td>xG</td><td>102.98015200000002</td></tr><tr><td>0</td><td>npxG</td><td>97.77721200000002</td></tr><tr><td>0</td><td>npxGD</td><td>73.04930530000001</td></tr><tr><td>0</td><td>deep</td><td>489</td></tr><tr><td>0</td><td>xpts</td><td>94.08129999999998</td></tr><tr><td>1</td><td>scored</td><td>118</td></tr><tr><td>1</td><td>xG</td><td>95.766243</td></tr><tr><td>1</td><td>npxG</td><td>86.10389499999998</td></tr><tr><td>20</td><td>scored</td><td>112</td></tr><tr><td>20</td><td>xG</td><td>113.59827</td></tr><tr><td>20</td><td>npxG</td><td>99.47702</td></tr><tr><td>20</td><td>npxGD</td><td>66.19107989999999</td></tr><tr><td>20</td><td>deep</td><td>570</td></tr><tr><td>20</td><td>xpts</td><td>94.37999999999998</td></tr><tr><td>21</td><td>scored</td><td>110</td></tr><tr><td>40</td><td>scored</td><td>106</td></tr><tr><td>40</td><td>xG</td><td>90.86640999999996</td></tr><tr><td>40</td><td>npxG</td><td>84.92033999999998</td></tr><tr><td>41</td><td>scored</td><td>116</td></tr><tr><td>41</td><td>xG</td><td>93.55159400000002</td></tr><tr><td>41</td><td>npxG</td><td>86.86223400000004</td></tr><tr><td>41</td><td>deep</td><td>552</td></tr><tr><td>58</td><td>missed</td><td>94</td></tr><tr><td>58</td><td>xGA_diff</td><td>-29.17508699999999</td></tr><tr><td>60</td><td>npxG</td><td>86.77036199999998</td></tr><tr><td>60</td><td>deep</td><td>528</td></tr><tr><td>62</td><td>xG</td><td>91.28737</td></tr><tr><td>101</td><td>deep</td><td>575</td></tr><tr><td>140</td><td>xG_diff</td><td>-23.203113</td></tr><tr><td>144</td><td>deep</td><td>478</td></tr><tr><td>160</td><td>wins</td><td>32</td></tr><tr><td>160</td><td>scored</td><td>106</td></tr><tr><td>160</td><td>xG</td><td>91.43414500000002</td></tr><tr><td>160</td><td>npxG</td><td>85.123985</td></tr><tr><td>160</td><td>npxGD</td><td>62.13436529999999</td></tr><tr><td>160</td><td>oppda_coef</td><td>28.897068288668994</td></tr><tr><td>160</td><td>deep</td><td>541</td></tr><tr><td>163</td><td>oppda_coef</td><td>23.561771163978104</td></tr><tr><td>165</td><td>deep</td><td>488</td></tr><tr><td>174</td><td>ppda_coef</td><td>19.517768296666073</td></tr><tr><td>180</td><td>wins</td><td>32</td></tr><tr><td>180</td><td>xG</td><td>93.720559</td></tr><tr><td>180</td><td>npxG</td><td>90.67588</td></tr><tr><td>180</td><td>npxGD</td><td>67.98795489999998</td></tr><tr><td>180</td><td>oppda_coef</td><td>30.46811259810453</td></tr><tr><td>180</td><td>deep</td><td>582</td></tr><tr><td>181</td><td>oppda_coef</td><td>22.161375690580364</td></tr><tr><td>197</td><td>ppda_coef</td><td>18.46297272076852</td></tr><tr><td>200</td><td>oppda_coef</td><td>25.022717234327683</td></tr><tr><td>218</td><td>oppda_coef</td><td>23.119248575337444</td></tr><tr><td>236</td><td>oppda_coef</td><td>21.219964094030345</td></tr><tr><td>254</td><td>oppda_coef</td><td>22.416086722169084</td></tr><tr><td>272</td><td>xG</td><td>92.24085700000002</td></tr><tr><td>272</td><td>npxG</td><td>89.20990700000002</td></tr><tr><td>272</td><td>npxGD</td><td>66.3441459</td></tr><tr><td>272</td><td>oppda_coef</td><td>30.236540574321232</td></tr><tr><td>289</td><td>ppda_coef</td><td>20.304274836579374</td></tr><tr><td>332</td><td>oppda_coef</td><td>21.259331174509907</td></tr><tr><td>349</td><td>xpts_diff</td><td>23.0475</td></tr><tr><td>350</td><td>xG_diff</td><td>-26.771265000000003</td></tr><tr><td>351</td><td>oppda_coef</td><td>26.967791819482347</td></tr><tr><td>430</td><td>scored</td><td>107</td></tr><tr><td>430</td><td>xG_diff</td><td>-30.96302</td></tr><tr><td>432</td><td>xpts_diff</td><td>-24.531499999999994</td></tr><tr><td>450</td><td>scored</td><td>108</td></tr><tr><td>450</td><td>deep</td><td>478</td></tr><tr><td>470</td><td>scored</td><td>105</td></tr><tr><td>470</td><td>xG</td><td>95.34405999999998</td></tr><tr><td>470</td><td>npxG</td><td>86.22307699999998</td></tr></table>"
      ],
      "text/plain": [
       "<IPython.core.display.HTML object>"
      ]
     },
     "metadata": {},
     "output_type": "display_data"
    },
    {
     "data": {
      "image/png": "[encoded data removed]",
      "text/plain": [
       "<Figure size 1440x1080 with 6 Axes>"
      ]
     },
     "metadata": {
      "needs_background": "light"
     },
     "output_type": "display_data"
    }
   ],
   "source": [
    "%pylab inline\n",
    "pylab.rcParams['figure.figsize'] = (20, 15)\n",
    "\n",
    "import matplotlib.pyplot as pyplot\n",
    "from scipy import stats\n",
    "import numpy\n",
    "from IPython.display import HTML, display\n",
    "\n",
    "numpy.warnings.filterwarnings('ignore')\n",
    "\n",
    "numerical = data._get_numeric_data()\n",
    "z = numpy.abs(stats.zscore(numerical))\n",
    "\n",
    "threshold = 3\n",
    "outliers = numpy.where(z > threshold)\n",
    "print(\"Outliers arrays: \")\n",
    "print(outliers)\n",
    "\n",
    "\n",
    "displayData = [(row, numerical.columns[col], numerical[numerical.columns[col]].at[row]) \n",
    "               for row, col in zip(outliers[0], outliers[1])]\n",
    "\n",
    "\n",
    "\n",
    "\n",
    "display(HTML(\n",
    "   '<table><tr><th>Row</th><th>Col</th><th>Value</th></tr>%s</table>' % \n",
    "    \"\".join('<tr><td>%d</td><td>%s</td><td>%s</td></tr>' % \n",
    "            (elem[0], elem[1], elem[2]) for elem in displayData)))\n",
    "\n",
    "\n",
    "IQRData = data[['scored', 'npxG' ,'xG','deep','ppda_coef', 'xpts']];\n",
    "plotsInRow = 3\n",
    "colCount = len(data._get_numeric_data().columns)\n",
    "fig , axs = pyplot.subplots(int(colCount / plotsInRow), plotsInRow)\n",
    "\n",
    "col = 0\n",
    "\n",
    "for colName, idx in zip(IQRData._get_numeric_data().columns, range(0, colCount)):\n",
    "    \n",
    "    axis = pyplot.subplot(int(\"%d%d%d\" % (2, plotsInRow, idx + 1)))\n",
    "    axis.set_title(colName)\n",
    "    axis.boxplot(IQRData[colName])\n",
    "    col+=1\n",
    "    if(col == plotsInRow):\n",
    "        col = 0\n"
   ]
  },
  {
   "cell_type": "markdown",
   "metadata": {
    "colab_type": "text",
    "id": "9JpplubIonJZ"
   },
   "source": [
    "###8.Чи є у вас колонки з непраивльними / пропущеними  значеннями ? Якщо так , тоді опрацюйте їх в [залежності від умови і типу даних](https://towardsdatascience.com/data-cleaning-with-python-and-pandas-detecting-missing-values-3e9c6ebcf78b)"
   ]
  },
  {
   "cell_type": "code",
   "execution_count": null,
   "metadata": {
    "colab": {},
    "colab_type": "code",
    "id": "YtNE3V0konmj"
   },
   "outputs": [],
   "source": [
    "Немає."
   ]
  },
  {
   "cell_type": "markdown",
   "metadata": {},
   "source": [
    "Discover outliers with visualization tools\n",
    "Box plot\n",
    "Scatter plot\n",
    "\n",
    "Z-Score\n",
    "IQR score"
   ]
  }
 ],
 "metadata": {
  "colab": {
   "collapsed_sections": [],
   "name": "DM-LAB3.ipynb",
   "provenance": []
  },
  "kernelspec": {
   "display_name": "Python 3",
   "language": "python",
   "name": "python3"
  },
  "language_info": {
   "codemirror_mode": {
    "name": "ipython",
    "version": 3
   },
   "file_extension": ".py",
   "mimetype": "text/x-python",
   "name": "python",
   "nbconvert_exporter": "python",
   "pygments_lexer": "ipython3",
   "version": "3.7.4"
  }
 },
 "nbformat": 4,
 "nbformat_minor": 1
}
